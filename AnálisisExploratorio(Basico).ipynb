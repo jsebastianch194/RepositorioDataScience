{
 "cells": [
  {
   "cell_type": "code",
   "execution_count": 1,
   "metadata": {
    "id": "hxfILGyduqfg"
   },
   "outputs": [],
   "source": [
    "#Cargamos las librerias a utilizar\n",
    "import pandas as pd\n",
    "import numpy as np\n",
    "import matplotlib as mpl\n",
    "import matplotlib.pyplot as plt\n",
    "import seaborn as sns\n",
    "#plt.style.available\n",
    "plt.style.use(\"tableau-colorblind10\")"
   ]
  },
  {
   "cell_type": "code",
   "execution_count": 2,
   "metadata": {
    "colab": {
     "base_uri": "https://localhost:8080/",
     "height": 206
    },
    "id": "viE2ICDn590Q",
    "outputId": "ff230f50-aaad-42e0-b608-2ce611406058"
   },
   "outputs": [
    {
     "data": {
      "text/html": [
       "<div>\n",
       "<style scoped>\n",
       "    .dataframe tbody tr th:only-of-type {\n",
       "        vertical-align: middle;\n",
       "    }\n",
       "\n",
       "    .dataframe tbody tr th {\n",
       "        vertical-align: top;\n",
       "    }\n",
       "\n",
       "    .dataframe thead th {\n",
       "        text-align: right;\n",
       "    }\n",
       "</style>\n",
       "<table border=\"1\" class=\"dataframe\">\n",
       "  <thead>\n",
       "    <tr style=\"text-align: right;\">\n",
       "      <th></th>\n",
       "      <th>City</th>\n",
       "      <th>Year</th>\n",
       "      <th>Sport</th>\n",
       "      <th>Discipline</th>\n",
       "      <th>Event</th>\n",
       "      <th>Athlete</th>\n",
       "      <th>Gender</th>\n",
       "      <th>Country_Code</th>\n",
       "      <th>Country</th>\n",
       "      <th>Event_gender</th>\n",
       "      <th>Medal</th>\n",
       "    </tr>\n",
       "  </thead>\n",
       "  <tbody>\n",
       "    <tr>\n",
       "      <th>0</th>\n",
       "      <td>Montreal</td>\n",
       "      <td>1976.0</td>\n",
       "      <td>Aquatics</td>\n",
       "      <td>Diving</td>\n",
       "      <td>3m springboard</td>\n",
       "      <td>KÖHLER, Christa</td>\n",
       "      <td>Women</td>\n",
       "      <td>GDR</td>\n",
       "      <td>East Germany</td>\n",
       "      <td>W</td>\n",
       "      <td>Silver</td>\n",
       "    </tr>\n",
       "    <tr>\n",
       "      <th>1</th>\n",
       "      <td>Montreal</td>\n",
       "      <td>1976.0</td>\n",
       "      <td>Aquatics</td>\n",
       "      <td>Diving</td>\n",
       "      <td>3m springboard</td>\n",
       "      <td>KOSENKOV, Aleksandr</td>\n",
       "      <td>Men</td>\n",
       "      <td>URS</td>\n",
       "      <td>Soviet Union</td>\n",
       "      <td>M</td>\n",
       "      <td>Bronze</td>\n",
       "    </tr>\n",
       "    <tr>\n",
       "      <th>2</th>\n",
       "      <td>Montreal</td>\n",
       "      <td>1976.0</td>\n",
       "      <td>Aquatics</td>\n",
       "      <td>Diving</td>\n",
       "      <td>3m springboard</td>\n",
       "      <td>BOGGS, Philip George</td>\n",
       "      <td>Men</td>\n",
       "      <td>USA</td>\n",
       "      <td>United States</td>\n",
       "      <td>M</td>\n",
       "      <td>Gold</td>\n",
       "    </tr>\n",
       "    <tr>\n",
       "      <th>3</th>\n",
       "      <td>Montreal</td>\n",
       "      <td>1976.0</td>\n",
       "      <td>Aquatics</td>\n",
       "      <td>Diving</td>\n",
       "      <td>3m springboard</td>\n",
       "      <td>CAGNOTTO, Giorgio Franco</td>\n",
       "      <td>Men</td>\n",
       "      <td>ITA</td>\n",
       "      <td>Italy</td>\n",
       "      <td>M</td>\n",
       "      <td>Silver</td>\n",
       "    </tr>\n",
       "    <tr>\n",
       "      <th>4</th>\n",
       "      <td>Montreal</td>\n",
       "      <td>1976.0</td>\n",
       "      <td>Aquatics</td>\n",
       "      <td>Diving</td>\n",
       "      <td>10m platform</td>\n",
       "      <td>WILSON, Deborah Keplar</td>\n",
       "      <td>Women</td>\n",
       "      <td>USA</td>\n",
       "      <td>United States</td>\n",
       "      <td>W</td>\n",
       "      <td>Bronze</td>\n",
       "    </tr>\n",
       "  </tbody>\n",
       "</table>\n",
       "</div>"
      ],
      "text/plain": [
       "       City    Year     Sport Discipline           Event  \\\n",
       "0  Montreal  1976.0  Aquatics     Diving  3m springboard   \n",
       "1  Montreal  1976.0  Aquatics     Diving  3m springboard   \n",
       "2  Montreal  1976.0  Aquatics     Diving  3m springboard   \n",
       "3  Montreal  1976.0  Aquatics     Diving  3m springboard   \n",
       "4  Montreal  1976.0  Aquatics     Diving    10m platform   \n",
       "\n",
       "                    Athlete Gender Country_Code        Country Event_gender  \\\n",
       "0           KÖHLER, Christa  Women          GDR   East Germany            W   \n",
       "1       KOSENKOV, Aleksandr    Men          URS   Soviet Union            M   \n",
       "2      BOGGS, Philip George    Men          USA  United States            M   \n",
       "3  CAGNOTTO, Giorgio Franco    Men          ITA          Italy            M   \n",
       "4    WILSON, Deborah Keplar  Women          USA  United States            W   \n",
       "\n",
       "    Medal  \n",
       "0  Silver  \n",
       "1  Bronze  \n",
       "2    Gold  \n",
       "3  Silver  \n",
       "4  Bronze  "
      ]
     },
     "execution_count": 2,
     "metadata": {},
     "output_type": "execute_result"
    }
   ],
   "source": [
    "# Cargamos los datos \n",
    "\n",
    "Datos =  pd.read_csv(\"Summer-Olympic-medals-1976-to-2008.csv\",\n",
    "                     encoding=\"iso-8859-1\")\n",
    "Datos.head(5)"
   ]
  },
  {
   "cell_type": "code",
   "execution_count": 3,
   "metadata": {
    "colab": {
     "base_uri": "https://localhost:8080/",
     "height": 206
    },
    "id": "7cy7SRrR7g0h",
    "outputId": "3c59a445-6345-497b-f938-44ce697e6de3"
   },
   "outputs": [
    {
     "data": {
      "text/html": [
       "<div>\n",
       "<style scoped>\n",
       "    .dataframe tbody tr th:only-of-type {\n",
       "        vertical-align: middle;\n",
       "    }\n",
       "\n",
       "    .dataframe tbody tr th {\n",
       "        vertical-align: top;\n",
       "    }\n",
       "\n",
       "    .dataframe thead th {\n",
       "        text-align: right;\n",
       "    }\n",
       "</style>\n",
       "<table border=\"1\" class=\"dataframe\">\n",
       "  <thead>\n",
       "    <tr style=\"text-align: right;\">\n",
       "      <th></th>\n",
       "      <th>City</th>\n",
       "      <th>Year</th>\n",
       "      <th>Sport</th>\n",
       "      <th>Discipline</th>\n",
       "      <th>Event</th>\n",
       "      <th>Athlete</th>\n",
       "      <th>Gender</th>\n",
       "      <th>Country_Code</th>\n",
       "      <th>Country</th>\n",
       "      <th>Event_gender</th>\n",
       "      <th>Medal</th>\n",
       "    </tr>\n",
       "  </thead>\n",
       "  <tbody>\n",
       "    <tr>\n",
       "      <th>15428</th>\n",
       "      <td>Beijing</td>\n",
       "      <td>2008.0</td>\n",
       "      <td>Wrestling</td>\n",
       "      <td>Wrestling Gre-R</td>\n",
       "      <td>66 - 74kg</td>\n",
       "      <td>GUENOT, Christophe</td>\n",
       "      <td>Men</td>\n",
       "      <td>FRA</td>\n",
       "      <td>France</td>\n",
       "      <td>M</td>\n",
       "      <td>Bronze</td>\n",
       "    </tr>\n",
       "    <tr>\n",
       "      <th>15429</th>\n",
       "      <td>Beijing</td>\n",
       "      <td>2008.0</td>\n",
       "      <td>Wrestling</td>\n",
       "      <td>Wrestling Gre-R</td>\n",
       "      <td>66 - 74kg</td>\n",
       "      <td>KVIRKELIA, Manuchar</td>\n",
       "      <td>Men</td>\n",
       "      <td>GEO</td>\n",
       "      <td>Georgia</td>\n",
       "      <td>M</td>\n",
       "      <td>Gold</td>\n",
       "    </tr>\n",
       "    <tr>\n",
       "      <th>15430</th>\n",
       "      <td>Beijing</td>\n",
       "      <td>2008.0</td>\n",
       "      <td>Wrestling</td>\n",
       "      <td>Wrestling Gre-R</td>\n",
       "      <td>55 - 60kg</td>\n",
       "      <td>RAHIMOV, Vitaliy</td>\n",
       "      <td>Men</td>\n",
       "      <td>AZE</td>\n",
       "      <td>Azerbaijan</td>\n",
       "      <td>M</td>\n",
       "      <td>Silver</td>\n",
       "    </tr>\n",
       "    <tr>\n",
       "      <th>15431</th>\n",
       "      <td>Beijing</td>\n",
       "      <td>2008.0</td>\n",
       "      <td>Wrestling</td>\n",
       "      <td>Wrestling Gre-R</td>\n",
       "      <td>60 - 66kg</td>\n",
       "      <td>GUENOT, Steeve</td>\n",
       "      <td>Men</td>\n",
       "      <td>FRA</td>\n",
       "      <td>France</td>\n",
       "      <td>M</td>\n",
       "      <td>Gold</td>\n",
       "    </tr>\n",
       "    <tr>\n",
       "      <th>15432</th>\n",
       "      <td>Beijing</td>\n",
       "      <td>2008.0</td>\n",
       "      <td>Wrestling</td>\n",
       "      <td>Wrestling Gre-R</td>\n",
       "      <td>96 - 120kg</td>\n",
       "      <td>LOPEZ, Mijain</td>\n",
       "      <td>Men</td>\n",
       "      <td>CUB</td>\n",
       "      <td>Cuba</td>\n",
       "      <td>M</td>\n",
       "      <td>Gold</td>\n",
       "    </tr>\n",
       "  </tbody>\n",
       "</table>\n",
       "</div>"
      ],
      "text/plain": [
       "          City    Year      Sport       Discipline       Event  \\\n",
       "15428  Beijing  2008.0  Wrestling  Wrestling Gre-R   66 - 74kg   \n",
       "15429  Beijing  2008.0  Wrestling  Wrestling Gre-R   66 - 74kg   \n",
       "15430  Beijing  2008.0  Wrestling  Wrestling Gre-R   55 - 60kg   \n",
       "15431  Beijing  2008.0  Wrestling  Wrestling Gre-R   60 - 66kg   \n",
       "15432  Beijing  2008.0  Wrestling  Wrestling Gre-R  96 - 120kg   \n",
       "\n",
       "                   Athlete Gender Country_Code     Country Event_gender  \\\n",
       "15428   GUENOT, Christophe    Men          FRA      France            M   \n",
       "15429  KVIRKELIA, Manuchar    Men          GEO     Georgia            M   \n",
       "15430     RAHIMOV, Vitaliy    Men          AZE  Azerbaijan            M   \n",
       "15431       GUENOT, Steeve    Men          FRA      France            M   \n",
       "15432        LOPEZ, Mijain    Men          CUB        Cuba            M   \n",
       "\n",
       "        Medal  \n",
       "15428  Bronze  \n",
       "15429    Gold  \n",
       "15430  Silver  \n",
       "15431    Gold  \n",
       "15432    Gold  "
      ]
     },
     "execution_count": 3,
     "metadata": {},
     "output_type": "execute_result"
    }
   ],
   "source": [
    "Datos.tail(5)"
   ]
  },
  {
   "cell_type": "markdown",
   "metadata": {
    "id": "xrZoUvL09AQq"
   },
   "source": [
    "### Tipo de variables: "
   ]
  },
  {
   "cell_type": "code",
   "execution_count": 4,
   "metadata": {
    "colab": {
     "base_uri": "https://localhost:8080/"
    },
    "id": "0KfhmzM679Od",
    "outputId": "7142c90e-8cf2-4bd0-f216-d2af06f41dab"
   },
   "outputs": [
    {
     "name": "stdout",
     "output_type": "stream",
     "text": [
      "<class 'pandas.core.frame.DataFrame'>\n",
      "RangeIndex: 15433 entries, 0 to 15432\n",
      "Data columns (total 11 columns):\n",
      " #   Column        Non-Null Count  Dtype  \n",
      "---  ------        --------------  -----  \n",
      " 0   City          15316 non-null  object \n",
      " 1   Year          15316 non-null  float64\n",
      " 2   Sport         15316 non-null  object \n",
      " 3   Discipline    15316 non-null  object \n",
      " 4   Event         15316 non-null  object \n",
      " 5   Athlete       15316 non-null  object \n",
      " 6   Gender        15316 non-null  object \n",
      " 7   Country_Code  15316 non-null  object \n",
      " 8   Country       15316 non-null  object \n",
      " 9   Event_gender  15316 non-null  object \n",
      " 10  Medal         15316 non-null  object \n",
      "dtypes: float64(1), object(10)\n",
      "memory usage: 1.3+ MB\n"
     ]
    }
   ],
   "source": [
    "Datos.info()"
   ]
  },
  {
   "cell_type": "markdown",
   "metadata": {
    "id": "PBzX-CTf8HuH"
   },
   "source": [
    "Podemos observar que las variables tienen null, puesto que existen 15433 entradas, de las cuales 15316 son datos non-null, esto lo podemos apreciar mejor realizando un conteo de Na"
   ]
  },
  {
   "cell_type": "code",
   "execution_count": 5,
   "metadata": {
    "colab": {
     "base_uri": "https://localhost:8080/",
     "height": 423
    },
    "id": "1ACXn-Bw9x5a",
    "outputId": "b93feaef-bb92-4b7c-954a-1bb2995dad4d"
   },
   "outputs": [
    {
     "data": {
      "text/html": [
       "<div>\n",
       "<style scoped>\n",
       "    .dataframe tbody tr th:only-of-type {\n",
       "        vertical-align: middle;\n",
       "    }\n",
       "\n",
       "    .dataframe tbody tr th {\n",
       "        vertical-align: top;\n",
       "    }\n",
       "\n",
       "    .dataframe thead th {\n",
       "        text-align: right;\n",
       "    }\n",
       "</style>\n",
       "<table border=\"1\" class=\"dataframe\">\n",
       "  <thead>\n",
       "    <tr style=\"text-align: right;\">\n",
       "      <th></th>\n",
       "      <th>City</th>\n",
       "      <th>Year</th>\n",
       "      <th>Sport</th>\n",
       "      <th>Discipline</th>\n",
       "      <th>Event</th>\n",
       "      <th>Athlete</th>\n",
       "      <th>Gender</th>\n",
       "      <th>Country_Code</th>\n",
       "      <th>Country</th>\n",
       "      <th>Event_gender</th>\n",
       "      <th>Medal</th>\n",
       "    </tr>\n",
       "  </thead>\n",
       "  <tbody>\n",
       "    <tr>\n",
       "      <th>770</th>\n",
       "      <td>NaN</td>\n",
       "      <td>NaN</td>\n",
       "      <td>NaN</td>\n",
       "      <td>NaN</td>\n",
       "      <td>NaN</td>\n",
       "      <td>NaN</td>\n",
       "      <td>NaN</td>\n",
       "      <td>NaN</td>\n",
       "      <td>NaN</td>\n",
       "      <td>NaN</td>\n",
       "      <td>NaN</td>\n",
       "    </tr>\n",
       "    <tr>\n",
       "      <th>771</th>\n",
       "      <td>NaN</td>\n",
       "      <td>NaN</td>\n",
       "      <td>NaN</td>\n",
       "      <td>NaN</td>\n",
       "      <td>NaN</td>\n",
       "      <td>NaN</td>\n",
       "      <td>NaN</td>\n",
       "      <td>NaN</td>\n",
       "      <td>NaN</td>\n",
       "      <td>NaN</td>\n",
       "      <td>NaN</td>\n",
       "    </tr>\n",
       "    <tr>\n",
       "      <th>772</th>\n",
       "      <td>NaN</td>\n",
       "      <td>NaN</td>\n",
       "      <td>NaN</td>\n",
       "      <td>NaN</td>\n",
       "      <td>NaN</td>\n",
       "      <td>NaN</td>\n",
       "      <td>NaN</td>\n",
       "      <td>NaN</td>\n",
       "      <td>NaN</td>\n",
       "      <td>NaN</td>\n",
       "      <td>NaN</td>\n",
       "    </tr>\n",
       "    <tr>\n",
       "      <th>773</th>\n",
       "      <td>NaN</td>\n",
       "      <td>NaN</td>\n",
       "      <td>NaN</td>\n",
       "      <td>NaN</td>\n",
       "      <td>NaN</td>\n",
       "      <td>NaN</td>\n",
       "      <td>NaN</td>\n",
       "      <td>NaN</td>\n",
       "      <td>NaN</td>\n",
       "      <td>NaN</td>\n",
       "      <td>NaN</td>\n",
       "    </tr>\n",
       "    <tr>\n",
       "      <th>774</th>\n",
       "      <td>NaN</td>\n",
       "      <td>NaN</td>\n",
       "      <td>NaN</td>\n",
       "      <td>NaN</td>\n",
       "      <td>NaN</td>\n",
       "      <td>NaN</td>\n",
       "      <td>NaN</td>\n",
       "      <td>NaN</td>\n",
       "      <td>NaN</td>\n",
       "      <td>NaN</td>\n",
       "      <td>NaN</td>\n",
       "    </tr>\n",
       "    <tr>\n",
       "      <th>...</th>\n",
       "      <td>...</td>\n",
       "      <td>...</td>\n",
       "      <td>...</td>\n",
       "      <td>...</td>\n",
       "      <td>...</td>\n",
       "      <td>...</td>\n",
       "      <td>...</td>\n",
       "      <td>...</td>\n",
       "      <td>...</td>\n",
       "      <td>...</td>\n",
       "      <td>...</td>\n",
       "    </tr>\n",
       "    <tr>\n",
       "      <th>882</th>\n",
       "      <td>NaN</td>\n",
       "      <td>NaN</td>\n",
       "      <td>NaN</td>\n",
       "      <td>NaN</td>\n",
       "      <td>NaN</td>\n",
       "      <td>NaN</td>\n",
       "      <td>NaN</td>\n",
       "      <td>NaN</td>\n",
       "      <td>NaN</td>\n",
       "      <td>NaN</td>\n",
       "      <td>NaN</td>\n",
       "    </tr>\n",
       "    <tr>\n",
       "      <th>883</th>\n",
       "      <td>NaN</td>\n",
       "      <td>NaN</td>\n",
       "      <td>NaN</td>\n",
       "      <td>NaN</td>\n",
       "      <td>NaN</td>\n",
       "      <td>NaN</td>\n",
       "      <td>NaN</td>\n",
       "      <td>NaN</td>\n",
       "      <td>NaN</td>\n",
       "      <td>NaN</td>\n",
       "      <td>NaN</td>\n",
       "    </tr>\n",
       "    <tr>\n",
       "      <th>884</th>\n",
       "      <td>NaN</td>\n",
       "      <td>NaN</td>\n",
       "      <td>NaN</td>\n",
       "      <td>NaN</td>\n",
       "      <td>NaN</td>\n",
       "      <td>NaN</td>\n",
       "      <td>NaN</td>\n",
       "      <td>NaN</td>\n",
       "      <td>NaN</td>\n",
       "      <td>NaN</td>\n",
       "      <td>NaN</td>\n",
       "    </tr>\n",
       "    <tr>\n",
       "      <th>885</th>\n",
       "      <td>NaN</td>\n",
       "      <td>NaN</td>\n",
       "      <td>NaN</td>\n",
       "      <td>NaN</td>\n",
       "      <td>NaN</td>\n",
       "      <td>NaN</td>\n",
       "      <td>NaN</td>\n",
       "      <td>NaN</td>\n",
       "      <td>NaN</td>\n",
       "      <td>NaN</td>\n",
       "      <td>NaN</td>\n",
       "    </tr>\n",
       "    <tr>\n",
       "      <th>886</th>\n",
       "      <td>NaN</td>\n",
       "      <td>NaN</td>\n",
       "      <td>NaN</td>\n",
       "      <td>NaN</td>\n",
       "      <td>NaN</td>\n",
       "      <td>NaN</td>\n",
       "      <td>NaN</td>\n",
       "      <td>NaN</td>\n",
       "      <td>NaN</td>\n",
       "      <td>NaN</td>\n",
       "      <td>NaN</td>\n",
       "    </tr>\n",
       "  </tbody>\n",
       "</table>\n",
       "<p>117 rows × 11 columns</p>\n",
       "</div>"
      ],
      "text/plain": [
       "    City  Year Sport Discipline Event Athlete Gender Country_Code Country  \\\n",
       "770  NaN   NaN   NaN        NaN   NaN     NaN    NaN          NaN     NaN   \n",
       "771  NaN   NaN   NaN        NaN   NaN     NaN    NaN          NaN     NaN   \n",
       "772  NaN   NaN   NaN        NaN   NaN     NaN    NaN          NaN     NaN   \n",
       "773  NaN   NaN   NaN        NaN   NaN     NaN    NaN          NaN     NaN   \n",
       "774  NaN   NaN   NaN        NaN   NaN     NaN    NaN          NaN     NaN   \n",
       "..   ...   ...   ...        ...   ...     ...    ...          ...     ...   \n",
       "882  NaN   NaN   NaN        NaN   NaN     NaN    NaN          NaN     NaN   \n",
       "883  NaN   NaN   NaN        NaN   NaN     NaN    NaN          NaN     NaN   \n",
       "884  NaN   NaN   NaN        NaN   NaN     NaN    NaN          NaN     NaN   \n",
       "885  NaN   NaN   NaN        NaN   NaN     NaN    NaN          NaN     NaN   \n",
       "886  NaN   NaN   NaN        NaN   NaN     NaN    NaN          NaN     NaN   \n",
       "\n",
       "    Event_gender Medal  \n",
       "770          NaN   NaN  \n",
       "771          NaN   NaN  \n",
       "772          NaN   NaN  \n",
       "773          NaN   NaN  \n",
       "774          NaN   NaN  \n",
       "..           ...   ...  \n",
       "882          NaN   NaN  \n",
       "883          NaN   NaN  \n",
       "884          NaN   NaN  \n",
       "885          NaN   NaN  \n",
       "886          NaN   NaN  \n",
       "\n",
       "[117 rows x 11 columns]"
      ]
     },
     "execution_count": 5,
     "metadata": {},
     "output_type": "execute_result"
    }
   ],
   "source": [
    "Datos[Datos.isnull().sum(axis = 1) == 11]\n",
    "\n",
    "#Datos.isnull().sum()"
   ]
  },
  {
   "cell_type": "markdown",
   "metadata": {
    "id": "Fv6hKywn-Ikv"
   },
   "source": [
    "Algunas observaciones no tienen información. Estas observaciones podemos eliminarlas, para esto, buscamos los index que tienen 11 valores ausentes (total de variables) en sus filas"
   ]
  },
  {
   "cell_type": "code",
   "execution_count": 6,
   "metadata": {
    "colab": {
     "base_uri": "https://localhost:8080/"
    },
    "id": "P0jt0GNc-OZ3",
    "outputId": "ac6bb989-50e8-4a95-f1a9-b54795faa375"
   },
   "outputs": [
    {
     "data": {
      "text/plain": [
       "Int64Index([770, 771, 772, 773, 774, 775, 776, 777, 778, 779,\n",
       "            ...\n",
       "            877, 878, 879, 880, 881, 882, 883, 884, 885, 886],\n",
       "           dtype='int64', length=117)"
      ]
     },
     "execution_count": 6,
     "metadata": {},
     "output_type": "execute_result"
    }
   ],
   "source": [
    "rango1 = Datos.index[Datos.isnull().sum(axis = 1) == 11]\n",
    "rango1"
   ]
  },
  {
   "cell_type": "markdown",
   "metadata": {
    "id": "XCesYnDMDlde"
   },
   "source": [
    "Para eliminar las filas vacias tenemos varias alternaticas, se puede liminar los idex guardados en el rango1 o haciendo uso de la función pd.dropna(how = \"all\")"
   ]
  },
  {
   "cell_type": "code",
   "execution_count": 7,
   "metadata": {
    "colab": {
     "base_uri": "https://localhost:8080/"
    },
    "id": "RU4Ua7B8DpKu",
    "outputId": "1c28c186-75a3-4bb0-baae-208a2ec27f80"
   },
   "outputs": [
    {
     "data": {
      "text/plain": [
       "City            0\n",
       "Year            0\n",
       "Sport           0\n",
       "Discipline      0\n",
       "Event           0\n",
       "Athlete         0\n",
       "Gender          0\n",
       "Country_Code    0\n",
       "Country         0\n",
       "Event_gender    0\n",
       "Medal           0\n",
       "dtype: int64"
      ]
     },
     "execution_count": 7,
     "metadata": {},
     "output_type": "execute_result"
    }
   ],
   "source": [
    "Datos = Datos.dropna(how = \"all\")\n",
    "Datos.isna().sum()"
   ]
  },
  {
   "cell_type": "code",
   "execution_count": 8,
   "metadata": {
    "colab": {
     "base_uri": "https://localhost:8080/"
    },
    "id": "Tb-p6Shn6MSF",
    "outputId": "6cdc96c5-6515-47fc-a1cf-9fb75a10305b"
   },
   "outputs": [
    {
     "data": {
      "text/plain": [
       "Index(['City', 'Year', 'Sport', 'Discipline', 'Event', 'Athlete', 'Gender',\n",
       "       'Country_Code', 'Country', 'Event_gender', 'Medal'],\n",
       "      dtype='object')"
      ]
     },
     "execution_count": 8,
     "metadata": {},
     "output_type": "execute_result"
    }
   ],
   "source": [
    "Datos.columns"
   ]
  },
  {
   "cell_type": "markdown",
   "metadata": {
    "id": "FkgrFeV9kCrw"
   },
   "source": [
    "Como podemos observar ya no encontramos datos null, sin embargo,Year debería ser el index del dataframe y ser de tipo int. \n",
    "Procedemos a realizar estos cambios\n"
   ]
  },
  {
   "cell_type": "code",
   "execution_count": 9,
   "metadata": {
    "colab": {
     "base_uri": "https://localhost:8080/",
     "height": 708
    },
    "id": "I-jTMTkBGAgM",
    "outputId": "482e7515-8ec9-4c87-b676-02ecc9a45243"
   },
   "outputs": [
    {
     "name": "stdout",
     "output_type": "stream",
     "text": [
      "int32 \n",
      "\n"
     ]
    },
    {
     "data": {
      "text/html": [
       "<div>\n",
       "<style scoped>\n",
       "    .dataframe tbody tr th:only-of-type {\n",
       "        vertical-align: middle;\n",
       "    }\n",
       "\n",
       "    .dataframe tbody tr th {\n",
       "        vertical-align: top;\n",
       "    }\n",
       "\n",
       "    .dataframe thead th {\n",
       "        text-align: right;\n",
       "    }\n",
       "</style>\n",
       "<table border=\"1\" class=\"dataframe\">\n",
       "  <thead>\n",
       "    <tr style=\"text-align: right;\">\n",
       "      <th></th>\n",
       "      <th>City</th>\n",
       "      <th>Sport</th>\n",
       "      <th>Discipline</th>\n",
       "      <th>Event</th>\n",
       "      <th>Athlete</th>\n",
       "      <th>Gender</th>\n",
       "      <th>Country_Code</th>\n",
       "      <th>Country</th>\n",
       "      <th>Event_gender</th>\n",
       "      <th>Medal</th>\n",
       "    </tr>\n",
       "    <tr>\n",
       "      <th>Year</th>\n",
       "      <th></th>\n",
       "      <th></th>\n",
       "      <th></th>\n",
       "      <th></th>\n",
       "      <th></th>\n",
       "      <th></th>\n",
       "      <th></th>\n",
       "      <th></th>\n",
       "      <th></th>\n",
       "      <th></th>\n",
       "    </tr>\n",
       "  </thead>\n",
       "  <tbody>\n",
       "    <tr>\n",
       "      <th>1976</th>\n",
       "      <td>Montreal</td>\n",
       "      <td>Aquatics</td>\n",
       "      <td>Diving</td>\n",
       "      <td>3m springboard</td>\n",
       "      <td>KÖHLER, Christa</td>\n",
       "      <td>Women</td>\n",
       "      <td>GDR</td>\n",
       "      <td>East Germany</td>\n",
       "      <td>W</td>\n",
       "      <td>Silver</td>\n",
       "    </tr>\n",
       "    <tr>\n",
       "      <th>1976</th>\n",
       "      <td>Montreal</td>\n",
       "      <td>Aquatics</td>\n",
       "      <td>Diving</td>\n",
       "      <td>3m springboard</td>\n",
       "      <td>KOSENKOV, Aleksandr</td>\n",
       "      <td>Men</td>\n",
       "      <td>URS</td>\n",
       "      <td>Soviet Union</td>\n",
       "      <td>M</td>\n",
       "      <td>Bronze</td>\n",
       "    </tr>\n",
       "    <tr>\n",
       "      <th>1976</th>\n",
       "      <td>Montreal</td>\n",
       "      <td>Aquatics</td>\n",
       "      <td>Diving</td>\n",
       "      <td>3m springboard</td>\n",
       "      <td>BOGGS, Philip George</td>\n",
       "      <td>Men</td>\n",
       "      <td>USA</td>\n",
       "      <td>United States</td>\n",
       "      <td>M</td>\n",
       "      <td>Gold</td>\n",
       "    </tr>\n",
       "    <tr>\n",
       "      <th>1976</th>\n",
       "      <td>Montreal</td>\n",
       "      <td>Aquatics</td>\n",
       "      <td>Diving</td>\n",
       "      <td>3m springboard</td>\n",
       "      <td>CAGNOTTO, Giorgio Franco</td>\n",
       "      <td>Men</td>\n",
       "      <td>ITA</td>\n",
       "      <td>Italy</td>\n",
       "      <td>M</td>\n",
       "      <td>Silver</td>\n",
       "    </tr>\n",
       "    <tr>\n",
       "      <th>1976</th>\n",
       "      <td>Montreal</td>\n",
       "      <td>Aquatics</td>\n",
       "      <td>Diving</td>\n",
       "      <td>10m platform</td>\n",
       "      <td>WILSON, Deborah Keplar</td>\n",
       "      <td>Women</td>\n",
       "      <td>USA</td>\n",
       "      <td>United States</td>\n",
       "      <td>W</td>\n",
       "      <td>Bronze</td>\n",
       "    </tr>\n",
       "    <tr>\n",
       "      <th>1976</th>\n",
       "      <td>Montreal</td>\n",
       "      <td>Aquatics</td>\n",
       "      <td>Diving</td>\n",
       "      <td>10m platform</td>\n",
       "      <td>LOUGANIS, Gregory</td>\n",
       "      <td>Men</td>\n",
       "      <td>USA</td>\n",
       "      <td>United States</td>\n",
       "      <td>M</td>\n",
       "      <td>Silver</td>\n",
       "    </tr>\n",
       "    <tr>\n",
       "      <th>1976</th>\n",
       "      <td>Montreal</td>\n",
       "      <td>Aquatics</td>\n",
       "      <td>Diving</td>\n",
       "      <td>10m platform</td>\n",
       "      <td>VAYTSEKHOVSKAYA, Elena</td>\n",
       "      <td>Women</td>\n",
       "      <td>URS</td>\n",
       "      <td>Soviet Union</td>\n",
       "      <td>W</td>\n",
       "      <td>Gold</td>\n",
       "    </tr>\n",
       "    <tr>\n",
       "      <th>1976</th>\n",
       "      <td>Montreal</td>\n",
       "      <td>Aquatics</td>\n",
       "      <td>Diving</td>\n",
       "      <td>3m springboard</td>\n",
       "      <td>POTTER-MCINGVALE, Cynthia</td>\n",
       "      <td>Women</td>\n",
       "      <td>USA</td>\n",
       "      <td>United States</td>\n",
       "      <td>W</td>\n",
       "      <td>Bronze</td>\n",
       "    </tr>\n",
       "    <tr>\n",
       "      <th>1976</th>\n",
       "      <td>Montreal</td>\n",
       "      <td>Aquatics</td>\n",
       "      <td>Diving</td>\n",
       "      <td>10m platform</td>\n",
       "      <td>DIBIASI, Klaus</td>\n",
       "      <td>Men</td>\n",
       "      <td>ITA</td>\n",
       "      <td>Italy</td>\n",
       "      <td>M</td>\n",
       "      <td>Gold</td>\n",
       "    </tr>\n",
       "    <tr>\n",
       "      <th>1976</th>\n",
       "      <td>Montreal</td>\n",
       "      <td>Aquatics</td>\n",
       "      <td>Diving</td>\n",
       "      <td>10m platform</td>\n",
       "      <td>ALEINIK, Vladimir</td>\n",
       "      <td>Men</td>\n",
       "      <td>URS</td>\n",
       "      <td>Soviet Union</td>\n",
       "      <td>M</td>\n",
       "      <td>Bronze</td>\n",
       "    </tr>\n",
       "    <tr>\n",
       "      <th>1976</th>\n",
       "      <td>Montreal</td>\n",
       "      <td>Aquatics</td>\n",
       "      <td>Diving</td>\n",
       "      <td>10m platform</td>\n",
       "      <td>KNAPE-LINDBERGH, Ulrika</td>\n",
       "      <td>Women</td>\n",
       "      <td>SWE</td>\n",
       "      <td>Sweden</td>\n",
       "      <td>W</td>\n",
       "      <td>Silver</td>\n",
       "    </tr>\n",
       "    <tr>\n",
       "      <th>1976</th>\n",
       "      <td>Montreal</td>\n",
       "      <td>Aquatics</td>\n",
       "      <td>Diving</td>\n",
       "      <td>3m springboard</td>\n",
       "      <td>CHANDLER, Jennifer Kay</td>\n",
       "      <td>Women</td>\n",
       "      <td>USA</td>\n",
       "      <td>United States</td>\n",
       "      <td>W</td>\n",
       "      <td>Gold</td>\n",
       "    </tr>\n",
       "    <tr>\n",
       "      <th>1976</th>\n",
       "      <td>Montreal</td>\n",
       "      <td>Aquatics</td>\n",
       "      <td>Swimming</td>\n",
       "      <td>4x100m freestyle relay</td>\n",
       "      <td>BABASHOFF, Shirley Farber</td>\n",
       "      <td>Women</td>\n",
       "      <td>USA</td>\n",
       "      <td>United States</td>\n",
       "      <td>W</td>\n",
       "      <td>Gold</td>\n",
       "    </tr>\n",
       "    <tr>\n",
       "      <th>1976</th>\n",
       "      <td>Montreal</td>\n",
       "      <td>Aquatics</td>\n",
       "      <td>Swimming</td>\n",
       "      <td>400m freestyle</td>\n",
       "      <td>SHAW, Timothy Andrew</td>\n",
       "      <td>Men</td>\n",
       "      <td>USA</td>\n",
       "      <td>United States</td>\n",
       "      <td>M</td>\n",
       "      <td>Silver</td>\n",
       "    </tr>\n",
       "    <tr>\n",
       "      <th>1976</th>\n",
       "      <td>Montreal</td>\n",
       "      <td>Aquatics</td>\n",
       "      <td>Swimming</td>\n",
       "      <td>4x100m freestyle relay</td>\n",
       "      <td>PRIEMER, Petra</td>\n",
       "      <td>Women</td>\n",
       "      <td>GDR</td>\n",
       "      <td>East Germany</td>\n",
       "      <td>W</td>\n",
       "      <td>Silver</td>\n",
       "    </tr>\n",
       "    <tr>\n",
       "      <th>1976</th>\n",
       "      <td>Montreal</td>\n",
       "      <td>Aquatics</td>\n",
       "      <td>Swimming</td>\n",
       "      <td>1500m freestyle</td>\n",
       "      <td>HOLLAND, Stephen</td>\n",
       "      <td>Men</td>\n",
       "      <td>AUS</td>\n",
       "      <td>Australia</td>\n",
       "      <td>M</td>\n",
       "      <td>Bronze</td>\n",
       "    </tr>\n",
       "    <tr>\n",
       "      <th>1976</th>\n",
       "      <td>Montreal</td>\n",
       "      <td>Aquatics</td>\n",
       "      <td>Swimming</td>\n",
       "      <td>400m individual medley</td>\n",
       "      <td>SMIRNOV, Andrei</td>\n",
       "      <td>Men</td>\n",
       "      <td>URS</td>\n",
       "      <td>Soviet Union</td>\n",
       "      <td>M</td>\n",
       "      <td>Bronze</td>\n",
       "    </tr>\n",
       "    <tr>\n",
       "      <th>1976</th>\n",
       "      <td>Montreal</td>\n",
       "      <td>Aquatics</td>\n",
       "      <td>Swimming</td>\n",
       "      <td>4x100m medley relay</td>\n",
       "      <td>ANKE, Hannelore</td>\n",
       "      <td>Women</td>\n",
       "      <td>GDR</td>\n",
       "      <td>East Germany</td>\n",
       "      <td>W</td>\n",
       "      <td>Gold</td>\n",
       "    </tr>\n",
       "    <tr>\n",
       "      <th>1976</th>\n",
       "      <td>Montreal</td>\n",
       "      <td>Aquatics</td>\n",
       "      <td>Swimming</td>\n",
       "      <td>800m freestyle</td>\n",
       "      <td>BABASHOFF, Shirley Farber</td>\n",
       "      <td>Women</td>\n",
       "      <td>USA</td>\n",
       "      <td>United States</td>\n",
       "      <td>W</td>\n",
       "      <td>Silver</td>\n",
       "    </tr>\n",
       "    <tr>\n",
       "      <th>1976</th>\n",
       "      <td>Montreal</td>\n",
       "      <td>Aquatics</td>\n",
       "      <td>Swimming</td>\n",
       "      <td>800m freestyle</td>\n",
       "      <td>THÜMER, Petra</td>\n",
       "      <td>Women</td>\n",
       "      <td>GDR</td>\n",
       "      <td>East Germany</td>\n",
       "      <td>W</td>\n",
       "      <td>Gold</td>\n",
       "    </tr>\n",
       "  </tbody>\n",
       "</table>\n",
       "</div>"
      ],
      "text/plain": [
       "          City     Sport Discipline                   Event  \\\n",
       "Year                                                          \n",
       "1976  Montreal  Aquatics     Diving          3m springboard   \n",
       "1976  Montreal  Aquatics     Diving          3m springboard   \n",
       "1976  Montreal  Aquatics     Diving          3m springboard   \n",
       "1976  Montreal  Aquatics     Diving          3m springboard   \n",
       "1976  Montreal  Aquatics     Diving            10m platform   \n",
       "1976  Montreal  Aquatics     Diving            10m platform   \n",
       "1976  Montreal  Aquatics     Diving            10m platform   \n",
       "1976  Montreal  Aquatics     Diving          3m springboard   \n",
       "1976  Montreal  Aquatics     Diving            10m platform   \n",
       "1976  Montreal  Aquatics     Diving            10m platform   \n",
       "1976  Montreal  Aquatics     Diving            10m platform   \n",
       "1976  Montreal  Aquatics     Diving          3m springboard   \n",
       "1976  Montreal  Aquatics   Swimming  4x100m freestyle relay   \n",
       "1976  Montreal  Aquatics   Swimming          400m freestyle   \n",
       "1976  Montreal  Aquatics   Swimming  4x100m freestyle relay   \n",
       "1976  Montreal  Aquatics   Swimming         1500m freestyle   \n",
       "1976  Montreal  Aquatics   Swimming  400m individual medley   \n",
       "1976  Montreal  Aquatics   Swimming     4x100m medley relay   \n",
       "1976  Montreal  Aquatics   Swimming          800m freestyle   \n",
       "1976  Montreal  Aquatics   Swimming          800m freestyle   \n",
       "\n",
       "                        Athlete Gender Country_Code        Country  \\\n",
       "Year                                                                 \n",
       "1976            KÖHLER, Christa  Women          GDR   East Germany   \n",
       "1976        KOSENKOV, Aleksandr    Men          URS   Soviet Union   \n",
       "1976       BOGGS, Philip George    Men          USA  United States   \n",
       "1976   CAGNOTTO, Giorgio Franco    Men          ITA          Italy   \n",
       "1976     WILSON, Deborah Keplar  Women          USA  United States   \n",
       "1976          LOUGANIS, Gregory    Men          USA  United States   \n",
       "1976     VAYTSEKHOVSKAYA, Elena  Women          URS   Soviet Union   \n",
       "1976  POTTER-MCINGVALE, Cynthia  Women          USA  United States   \n",
       "1976             DIBIASI, Klaus    Men          ITA          Italy   \n",
       "1976          ALEINIK, Vladimir    Men          URS   Soviet Union   \n",
       "1976    KNAPE-LINDBERGH, Ulrika  Women          SWE         Sweden   \n",
       "1976     CHANDLER, Jennifer Kay  Women          USA  United States   \n",
       "1976  BABASHOFF, Shirley Farber  Women          USA  United States   \n",
       "1976       SHAW, Timothy Andrew    Men          USA  United States   \n",
       "1976             PRIEMER, Petra  Women          GDR   East Germany   \n",
       "1976           HOLLAND, Stephen    Men          AUS      Australia   \n",
       "1976            SMIRNOV, Andrei    Men          URS   Soviet Union   \n",
       "1976            ANKE, Hannelore  Women          GDR   East Germany   \n",
       "1976  BABASHOFF, Shirley Farber  Women          USA  United States   \n",
       "1976              THÜMER, Petra  Women          GDR   East Germany   \n",
       "\n",
       "     Event_gender   Medal  \n",
       "Year                       \n",
       "1976            W  Silver  \n",
       "1976            M  Bronze  \n",
       "1976            M    Gold  \n",
       "1976            M  Silver  \n",
       "1976            W  Bronze  \n",
       "1976            M  Silver  \n",
       "1976            W    Gold  \n",
       "1976            W  Bronze  \n",
       "1976            M    Gold  \n",
       "1976            M  Bronze  \n",
       "1976            W  Silver  \n",
       "1976            W    Gold  \n",
       "1976            W    Gold  \n",
       "1976            M  Silver  \n",
       "1976            W  Silver  \n",
       "1976            M  Bronze  \n",
       "1976            M  Bronze  \n",
       "1976            W    Gold  \n",
       "1976            W  Silver  \n",
       "1976            W    Gold  "
      ]
     },
     "execution_count": 9,
     "metadata": {},
     "output_type": "execute_result"
    }
   ],
   "source": [
    "Datos[\"Year\"] = Datos[\"Year\"].astype(int)\n",
    "print(Datos.Year.dtypes,\"\\n\")\n",
    "Datos.index = Datos.Year\n",
    "Datos = Datos.drop(\"Year\",axis=1)\n",
    "Datos.head(20)\n"
   ]
  },
  {
   "cell_type": "markdown",
   "metadata": {
    "id": "fF3EokIKkgZX"
   },
   "source": [
    "Realizar un análisis descriptivo de los datos consiste en poder entender la historia que está detrás de ellos.   \n",
    "\n",
    "\n",
    "## ¿Cuál es el país que ganó más medallas?"
   ]
  },
  {
   "cell_type": "code",
   "execution_count": 10,
   "metadata": {
    "colab": {
     "base_uri": "https://localhost:8080/"
    },
    "id": "a328qUicXRHT",
    "outputId": "13f76ab6-31cd-4fe1-cdc3-1cbff553ef2f"
   },
   "outputs": [
    {
     "data": {
      "text/html": [
       "<div>\n",
       "<style scoped>\n",
       "    .dataframe tbody tr th:only-of-type {\n",
       "        vertical-align: middle;\n",
       "    }\n",
       "\n",
       "    .dataframe tbody tr th {\n",
       "        vertical-align: top;\n",
       "    }\n",
       "\n",
       "    .dataframe thead th {\n",
       "        text-align: right;\n",
       "    }\n",
       "</style>\n",
       "<table border=\"1\" class=\"dataframe\">\n",
       "  <thead>\n",
       "    <tr style=\"text-align: right;\">\n",
       "      <th></th>\n",
       "      <th>City</th>\n",
       "      <th>Sport</th>\n",
       "      <th>Discipline</th>\n",
       "      <th>Event</th>\n",
       "      <th>Athlete</th>\n",
       "      <th>Gender</th>\n",
       "      <th>Country_Code</th>\n",
       "      <th>Country</th>\n",
       "      <th>Event_gender</th>\n",
       "      <th>Medal</th>\n",
       "    </tr>\n",
       "  </thead>\n",
       "  <tbody>\n",
       "    <tr>\n",
       "      <th>count</th>\n",
       "      <td>15316</td>\n",
       "      <td>15316</td>\n",
       "      <td>15316</td>\n",
       "      <td>15316</td>\n",
       "      <td>15316</td>\n",
       "      <td>15316</td>\n",
       "      <td>15316</td>\n",
       "      <td>15316</td>\n",
       "      <td>15316</td>\n",
       "      <td>15316</td>\n",
       "    </tr>\n",
       "    <tr>\n",
       "      <th>unique</th>\n",
       "      <td>9</td>\n",
       "      <td>28</td>\n",
       "      <td>41</td>\n",
       "      <td>293</td>\n",
       "      <td>11337</td>\n",
       "      <td>2</td>\n",
       "      <td>128</td>\n",
       "      <td>127</td>\n",
       "      <td>3</td>\n",
       "      <td>3</td>\n",
       "    </tr>\n",
       "    <tr>\n",
       "      <th>top</th>\n",
       "      <td>Beijing</td>\n",
       "      <td>Aquatics</td>\n",
       "      <td>Athletics</td>\n",
       "      <td>hockey</td>\n",
       "      <td>PHELPS, Michael</td>\n",
       "      <td>Men</td>\n",
       "      <td>USA</td>\n",
       "      <td>United States</td>\n",
       "      <td>M</td>\n",
       "      <td>Bronze</td>\n",
       "    </tr>\n",
       "    <tr>\n",
       "      <th>freq</th>\n",
       "      <td>2042</td>\n",
       "      <td>2210</td>\n",
       "      <td>1523</td>\n",
       "      <td>817</td>\n",
       "      <td>16</td>\n",
       "      <td>9388</td>\n",
       "      <td>1992</td>\n",
       "      <td>1992</td>\n",
       "      <td>8817</td>\n",
       "      <td>5258</td>\n",
       "    </tr>\n",
       "  </tbody>\n",
       "</table>\n",
       "</div>"
      ],
      "text/plain": [
       "           City     Sport Discipline   Event          Athlete Gender  \\\n",
       "count     15316     15316      15316   15316            15316  15316   \n",
       "unique        9        28         41     293            11337      2   \n",
       "top     Beijing  Aquatics  Athletics  hockey  PHELPS, Michael    Men   \n",
       "freq       2042      2210       1523     817               16   9388   \n",
       "\n",
       "       Country_Code        Country Event_gender   Medal  \n",
       "count         15316          15316        15316   15316  \n",
       "unique          128            127            3       3  \n",
       "top             USA  United States            M  Bronze  \n",
       "freq           1992           1992         8817    5258  "
      ]
     },
     "execution_count": 10,
     "metadata": {},
     "output_type": "execute_result"
    }
   ],
   "source": [
    "Datos.describe(include=\"object\")\n"
   ]
  },
  {
   "cell_type": "markdown",
   "metadata": {
    "id": "74HhXZW6eTYJ"
   },
   "source": [
    "El país con mayor cantidad de medallas es USA con una freq de 1992"
   ]
  },
  {
   "cell_type": "code",
   "execution_count": 11,
   "metadata": {
    "colab": {
     "base_uri": "https://localhost:8080/"
    },
    "id": "ag3wijPyerb8",
    "outputId": "7b75ccb4-4625-4dc1-b726-d12238aa9d2f"
   },
   "outputs": [
    {
     "data": {
      "text/html": [
       "<div>\n",
       "<style scoped>\n",
       "    .dataframe tbody tr th:only-of-type {\n",
       "        vertical-align: middle;\n",
       "    }\n",
       "\n",
       "    .dataframe tbody tr th {\n",
       "        vertical-align: top;\n",
       "    }\n",
       "\n",
       "    .dataframe thead th {\n",
       "        text-align: right;\n",
       "    }\n",
       "</style>\n",
       "<table border=\"1\" class=\"dataframe\">\n",
       "  <thead>\n",
       "    <tr style=\"text-align: right;\">\n",
       "      <th></th>\n",
       "      <th>Country</th>\n",
       "    </tr>\n",
       "  </thead>\n",
       "  <tbody>\n",
       "    <tr>\n",
       "      <th>United States</th>\n",
       "      <td>1992</td>\n",
       "    </tr>\n",
       "    <tr>\n",
       "      <th>Soviet Union</th>\n",
       "      <td>1021</td>\n",
       "    </tr>\n",
       "    <tr>\n",
       "      <th>Australia</th>\n",
       "      <td>798</td>\n",
       "    </tr>\n",
       "    <tr>\n",
       "      <th>Germany</th>\n",
       "      <td>691</td>\n",
       "    </tr>\n",
       "    <tr>\n",
       "      <th>China</th>\n",
       "      <td>679</td>\n",
       "    </tr>\n",
       "  </tbody>\n",
       "</table>\n",
       "</div>"
      ],
      "text/plain": [
       "               Country\n",
       "United States     1992\n",
       "Soviet Union      1021\n",
       "Australia          798\n",
       "Germany            691\n",
       "China              679"
      ]
     },
     "execution_count": 11,
     "metadata": {},
     "output_type": "execute_result"
    }
   ],
   "source": [
    "Pais = pd.DataFrame(Datos[\"Country\"].value_counts())\n",
    "Pais.head()\n"
   ]
  },
  {
   "cell_type": "code",
   "execution_count": 12,
   "metadata": {
    "colab": {
     "base_uri": "https://localhost:8080/",
     "height": 283
    },
    "id": "GxTMXPg0Nfiz",
    "outputId": "d7258529-663b-4086-8b85-9499f8034f7f"
   },
   "outputs": [
    {
     "data": {
      "text/plain": [
       "<AxesSubplot:xlabel='Country', ylabel='count'>"
      ]
     },
     "execution_count": 12,
     "metadata": {},
     "output_type": "execute_result"
    },
    {
     "data": {
      "image/png": "[encoded data removed]",
      "text/plain": [
       "<Figure size 720x432 with 1 Axes>"
      ]
     },
     "metadata": {
      "needs_background": "light"
     },
     "output_type": "display_data"
    }
   ],
   "source": [
    "fig, ax = plt.subplots(figsize=(10,6))\n",
    "sns.countplot(data = Datos, x= Datos.Country , order= ['United States', 'Soviet Union', 'Australia', 'Germany', 'China'],\n",
    "             ax = ax)"
   ]
  },
  {
   "cell_type": "markdown",
   "metadata": {
    "id": "HxUt2Bgvn22x"
   },
   "source": [
    "### Punto 3:\n",
    "**Construir una tabla que muestre cuántas medallas obtuvo el género masculino, otra con el género femenino, una tabla con el total de medallas en cada año y una donde muestre los resultados por disciplina.**\n",
    "\n",
    "## Medallas género masculino."
   ]
  },
  {
   "cell_type": "code",
   "execution_count": 13,
   "metadata": {
    "colab": {
     "base_uri": "https://localhost:8080/"
    },
    "id": "qq622miklRrq",
    "outputId": "837ef994-abf9-4dd8-ed0b-684a1a7685e6"
   },
   "outputs": [
    {
     "data": {
      "text/html": [
       "<div>\n",
       "<style scoped>\n",
       "    .dataframe tbody tr th:only-of-type {\n",
       "        vertical-align: middle;\n",
       "    }\n",
       "\n",
       "    .dataframe tbody tr th {\n",
       "        vertical-align: top;\n",
       "    }\n",
       "\n",
       "    .dataframe thead th {\n",
       "        text-align: right;\n",
       "    }\n",
       "</style>\n",
       "<table border=\"1\" class=\"dataframe\">\n",
       "  <thead>\n",
       "    <tr style=\"text-align: right;\">\n",
       "      <th></th>\n",
       "      <th>Gender(Men)</th>\n",
       "    </tr>\n",
       "    <tr>\n",
       "      <th>Medal</th>\n",
       "      <th></th>\n",
       "    </tr>\n",
       "  </thead>\n",
       "  <tbody>\n",
       "    <tr>\n",
       "      <th>Bronze</th>\n",
       "      <td>3257</td>\n",
       "    </tr>\n",
       "    <tr>\n",
       "      <th>Gold</th>\n",
       "      <td>3080</td>\n",
       "    </tr>\n",
       "    <tr>\n",
       "      <th>Silver</th>\n",
       "      <td>3051</td>\n",
       "    </tr>\n",
       "  </tbody>\n",
       "</table>\n",
       "</div>"
      ],
      "text/plain": [
       "        Gender(Men)\n",
       "Medal              \n",
       "Bronze         3257\n",
       "Gold           3080\n",
       "Silver         3051"
      ]
     },
     "execution_count": 13,
     "metadata": {},
     "output_type": "execute_result"
    }
   ],
   "source": [
    "Hombres_medallas = pd.DataFrame(Datos[Datos['Gender']==\"Men\"].groupby(\"Medal\")[\"Gender\"].count())\n",
    "Hombres_medallas = Hombres_medallas.set_axis([\"Gender(Men)\"],axis=1)\n",
    "Hombres_medallas\n"
   ]
  },
  {
   "cell_type": "code",
   "execution_count": 14,
   "metadata": {},
   "outputs": [
    {
     "data": {
      "image/png": "[encoded data removed]",
      "text/plain": [
       "<Figure size 432x288 with 1 Axes>"
      ]
     },
     "metadata": {},
     "output_type": "display_data"
    }
   ],
   "source": [
    "plt.pie(x = Hombres_medallas[\"Gender(Men)\"]  ,\n",
    "        labels = Hombres_medallas.index, \n",
    "        autopct = '%0.0f%%', explode = [0.2,0.02,0.02])\n",
    "plt.show()"
   ]
  },
  {
   "cell_type": "markdown",
   "metadata": {
    "id": "QpvYnbIpom-t"
   },
   "source": [
    "## Medallas género femenino"
   ]
  },
  {
   "cell_type": "code",
   "execution_count": 15,
   "metadata": {
    "colab": {
     "base_uri": "https://localhost:8080/",
     "height": 206
    },
    "id": "r0rknEXto9FH",
    "outputId": "8cabc6ea-78a8-47ab-c9cc-de6fe26e7e4f"
   },
   "outputs": [
    {
     "data": {
      "text/html": [
       "<div>\n",
       "<style scoped>\n",
       "    .dataframe tbody tr th:only-of-type {\n",
       "        vertical-align: middle;\n",
       "    }\n",
       "\n",
       "    .dataframe tbody tr th {\n",
       "        vertical-align: top;\n",
       "    }\n",
       "\n",
       "    .dataframe thead th {\n",
       "        text-align: right;\n",
       "    }\n",
       "</style>\n",
       "<table border=\"1\" class=\"dataframe\">\n",
       "  <thead>\n",
       "    <tr style=\"text-align: right;\">\n",
       "      <th></th>\n",
       "      <th>Gender</th>\n",
       "    </tr>\n",
       "    <tr>\n",
       "      <th>Medal</th>\n",
       "      <th></th>\n",
       "    </tr>\n",
       "  </thead>\n",
       "  <tbody>\n",
       "    <tr>\n",
       "      <th>Bronze</th>\n",
       "      <td>2001</td>\n",
       "    </tr>\n",
       "    <tr>\n",
       "      <th>Gold</th>\n",
       "      <td>1962</td>\n",
       "    </tr>\n",
       "    <tr>\n",
       "      <th>Silver</th>\n",
       "      <td>1965</td>\n",
       "    </tr>\n",
       "  </tbody>\n",
       "</table>\n",
       "</div>"
      ],
      "text/plain": [
       "        Gender\n",
       "Medal         \n",
       "Bronze    2001\n",
       "Gold      1962\n",
       "Silver    1965"
      ]
     },
     "execution_count": 15,
     "metadata": {},
     "output_type": "execute_result"
    }
   ],
   "source": [
    "Mujeres_medallas = pd.DataFrame(Datos[Datos['Gender']==\"Women\"].groupby(\"Medal\")[\"Gender\"].count())\n",
    "Mujeres_medallas.set_axis([\"Gender(Women)\"],axis=1)\n",
    "Mujeres_medallas"
   ]
  },
  {
   "cell_type": "code",
   "execution_count": 16,
   "metadata": {},
   "outputs": [
    {
     "data": {
      "image/png": "[encoded data removed]",
      "text/plain": [
       "<Figure size 432x288 with 1 Axes>"
      ]
     },
     "metadata": {},
     "output_type": "display_data"
    }
   ],
   "source": [
    "plt.pie(x = Mujeres_medallas[\"Gender\"]  ,\n",
    "        labels = Mujeres_medallas.index, \n",
    "        autopct = '%0.0f%%', explode = [0.2,0.02,0.02])\n",
    "plt.show()"
   ]
  },
  {
   "cell_type": "markdown",
   "metadata": {
    "id": "L6uXQ7qOsann"
   },
   "source": [
    "## Total de medallas en cada año:"
   ]
  },
  {
   "cell_type": "code",
   "execution_count": 17,
   "metadata": {
    "colab": {
     "base_uri": "https://localhost:8080/",
     "height": 363
    },
    "id": "xGOSpjKesc-g",
    "outputId": "37d61921-3a67-4d04-e264-1f53ccca8d37"
   },
   "outputs": [
    {
     "data": {
      "text/html": [
       "<div>\n",
       "<style scoped>\n",
       "    .dataframe tbody tr th:only-of-type {\n",
       "        vertical-align: middle;\n",
       "    }\n",
       "\n",
       "    .dataframe tbody tr th {\n",
       "        vertical-align: top;\n",
       "    }\n",
       "\n",
       "    .dataframe thead th {\n",
       "        text-align: right;\n",
       "    }\n",
       "</style>\n",
       "<table border=\"1\" class=\"dataframe\">\n",
       "  <thead>\n",
       "    <tr style=\"text-align: right;\">\n",
       "      <th></th>\n",
       "      <th>CantidadM</th>\n",
       "    </tr>\n",
       "    <tr>\n",
       "      <th>Year</th>\n",
       "      <th></th>\n",
       "    </tr>\n",
       "  </thead>\n",
       "  <tbody>\n",
       "    <tr>\n",
       "      <th>1976</th>\n",
       "      <td>1305</td>\n",
       "    </tr>\n",
       "    <tr>\n",
       "      <th>1980</th>\n",
       "      <td>1387</td>\n",
       "    </tr>\n",
       "    <tr>\n",
       "      <th>1984</th>\n",
       "      <td>1459</td>\n",
       "    </tr>\n",
       "    <tr>\n",
       "      <th>1988</th>\n",
       "      <td>1546</td>\n",
       "    </tr>\n",
       "    <tr>\n",
       "      <th>1992</th>\n",
       "      <td>1705</td>\n",
       "    </tr>\n",
       "    <tr>\n",
       "      <th>1996</th>\n",
       "      <td>1859</td>\n",
       "    </tr>\n",
       "    <tr>\n",
       "      <th>2000</th>\n",
       "      <td>2015</td>\n",
       "    </tr>\n",
       "    <tr>\n",
       "      <th>2004</th>\n",
       "      <td>1998</td>\n",
       "    </tr>\n",
       "    <tr>\n",
       "      <th>2008</th>\n",
       "      <td>2042</td>\n",
       "    </tr>\n",
       "  </tbody>\n",
       "</table>\n",
       "</div>"
      ],
      "text/plain": [
       "      CantidadM\n",
       "Year           \n",
       "1976       1305\n",
       "1980       1387\n",
       "1984       1459\n",
       "1988       1546\n",
       "1992       1705\n",
       "1996       1859\n",
       "2000       2015\n",
       "2004       1998\n",
       "2008       2042"
      ]
     },
     "execution_count": 17,
     "metadata": {},
     "output_type": "execute_result"
    }
   ],
   "source": [
    "medallas_año = pd.DataFrame(Datos.groupby(\"Year\")[\"Medal\"].count()).set_axis([\"CantidadM\"],axis=1)\n",
    "medallas_año"
   ]
  },
  {
   "cell_type": "code",
   "execution_count": 18,
   "metadata": {},
   "outputs": [
    {
     "data": {
      "text/plain": [
       "<matplotlib.collections.PathCollection at 0x1cf45508ac0>"
      ]
     },
     "execution_count": 18,
     "metadata": {},
     "output_type": "execute_result"
    },
    {
     "data": {
      "image/png": "[encoded data removed]",
      "text/plain": [
       "<Figure size 720x432 with 1 Axes>"
      ]
     },
     "metadata": {
      "needs_background": "light"
     },
     "output_type": "display_data"
    }
   ],
   "source": [
    "fig2, ax = plt.subplots(figsize = (10,6))\n",
    "ax.plot(medallas_año.index, medallas_año[\"CantidadM\"])       \n",
    "ax.scatter(medallas_año.index, medallas_año[\"CantidadM\"])  "
   ]
  },
  {
   "cell_type": "markdown",
   "metadata": {
    "id": "onGiw5nvvR4i"
   },
   "source": [
    "## Resultado por disciplina"
   ]
  },
  {
   "cell_type": "code",
   "execution_count": 19,
   "metadata": {
    "colab": {
     "base_uri": "https://localhost:8080/",
     "height": 1000
    },
    "id": "_Zm3tnw6vQNT",
    "outputId": "cff9a153-5a09-46a6-8060-7114e998fe01"
   },
   "outputs": [
    {
     "data": {
      "text/plain": [
       "<AxesSubplot:xlabel='Discipline', ylabel='count'>"
      ]
     },
     "execution_count": 19,
     "metadata": {},
     "output_type": "execute_result"
    },
    {
     "data": {
      "image/png": "[encoded data removed]",
      "text/plain": [
       "<Figure size 432x288 with 1 Axes>"
      ]
     },
     "metadata": {
      "needs_background": "light"
     },
     "output_type": "display_data"
    }
   ],
   "source": [
    "Datos[\"Discipline\"].value_counts().index\n",
    "sns.countplot(data = Datos, x = \"Discipline\", order= ['Athletics', 'Swimming', 'Rowing', 'Hockey', 'Handball'])"
   ]
  },
  {
   "cell_type": "code",
   "execution_count": 20,
   "metadata": {
    "colab": {
     "base_uri": "https://localhost:8080/"
    },
    "id": "bcpWoyulv7vX",
    "outputId": "89d46f5d-1f3e-4d2f-8d9f-05a0a415fedb"
   },
   "outputs": [
    {
     "name": "stdout",
     "output_type": "stream",
     "text": [
      "            Country  Cantidad Medallas\n",
      "117  United Kingdom                467\n",
      "118         Romania                482\n",
      "119           Italy                486\n",
      "120    East Germany                626\n",
      "121          Russia                638\n",
      "122           China                679\n",
      "123         Germany                691\n",
      "124       Australia                798\n",
      "125    Soviet Union               1021\n",
      "126   United States               1992\n"
     ]
    },
    {
     "data": {
      "text/plain": [
       "Text(0, 0.5, 'Cantidad medallas ')"
      ]
     },
     "execution_count": 20,
     "metadata": {},
     "output_type": "execute_result"
    },
    {
     "data": {
      "image/png": "[encoded data removed]",
      "text/plain": [
       "<Figure size 1080x504 with 1 Axes>"
      ]
     },
     "metadata": {
      "needs_background": "light"
     },
     "output_type": "display_data"
    }
   ],
   "source": [
    "q1 = pd.DataFrame(Datos.groupby(\"Country\")[\"Medal\"].count()).set_axis([\"Cantidad Medallas\"],axis=1).sort_values(\"Cantidad Medallas\").reset_index()\n",
    "q1_top20 = q1.tail(10)\n",
    "print(q1_top20)\n",
    "grafico1, ax = plt.subplots(figsize=(15,7))\n",
    "sns.barplot(data=q1_top20,x=\"Country\",y=\"Cantidad Medallas\" , ax=ax)\n",
    "ax.set_title(\"TOP 10 MEDALLAS GANADAS 1976 - 2008\")\n",
    "ax.set_xlabel(\"Pais\")\n",
    "ax.set_ylabel(\"Cantidad medallas \")"
   ]
  },
  {
   "cell_type": "markdown",
   "metadata": {
    "id": "EoRKtJQQBQgU"
   },
   "source": [
    "Deportistas mas destacados: "
   ]
  },
  {
   "cell_type": "code",
   "execution_count": 21,
   "metadata": {
    "id": "OZw-LFULBVMc"
   },
   "outputs": [],
   "source": [
    "\n",
    "Deportistas = Datos.groupby(['Athlete'])[\"Medal\"].count().sort_values()\n",
    "Deportistas_1 = Deportistas.tail(10)\n",
    "Deportistas_top10 = Deportistas_1.index.unique().to_numpy()\n",
    "Datos.head(2)\n",
    "DatosFiltrados = Datos[Datos[\"Athlete\"].isin(Deportistas_top10)]\n",
    "DatosFiltrados \n",
    "\n",
    "Datos_filtrados1 = DatosFiltrados.groupby([\"Athlete\",\"Medal\"])[\"Medal\"].count()\n",
    "Datos_filtrados1 = pd.DataFrame(Datos_filtrados1).set_axis([\"Cantidad\"],axis = 1).reset_index()"
   ]
  },
  {
   "cell_type": "code",
   "execution_count": 22,
   "metadata": {
    "colab": {
     "base_uri": "https://localhost:8080/"
    },
    "id": "OZKw7rR2RrJJ",
    "outputId": "89cf450b-11b7-4314-a59c-7f4af431010e"
   },
   "outputs": [
    {
     "data": {
      "text/plain": [
       "Text(0, 0.5, 'Cantidad de medallas')"
      ]
     },
     "execution_count": 22,
     "metadata": {},
     "output_type": "execute_result"
    },
    {
     "data": {
      "image/png": "[encoded data removed]",
      "text/plain": [
       "<Figure size 1296x576 with 1 Axes>"
      ]
     },
     "metadata": {
      "needs_background": "light"
     },
     "output_type": "display_data"
    }
   ],
   "source": [
    "\n",
    "grafico2, ax2 = plt.subplots(figsize=(18,8))\n",
    "ax2.set_title(\"Top 10 Mejores atletas 19976-2018 \", size=20)\n",
    "sns.barplot(data=Datos_filtrados1,x=\"Athlete\",y=\"Cantidad\",hue=\"Medal\",ax = ax2)\n",
    "ax2.set_xlabel(\"Atletas\",size=15)\n",
    "ax2.set_ylabel(\"Cantidad de medallas\",size=15)\n"
   ]
  },
  {
   "cell_type": "code",
   "execution_count": 24,
   "metadata": {
    "colab": {
     "base_uri": "https://localhost:8080/",
     "height": 829
    },
    "id": "ZeNWRhQ81lmR",
    "outputId": "0bb76d56-4942-47ad-99de-19f807a5da98"
   },
   "outputs": [
    {
     "name": "stdout",
     "output_type": "stream",
     "text": [
      "    Discipline   Medal  Year  Cantidad\n",
      "0  Artistic G.  Bronze  1976         1\n",
      "2  Artistic G.    Gold  1976         4\n",
      "4  Artistic G.  Silver  1976         2\n",
      "1  Artistic G.  Bronze  1980         1\n",
      "3  Artistic G.    Gold  1980         2\n",
      "5  Artistic G.  Silver  1980         2\n",
      "Medal\n",
      "Bronze    2\n",
      "Gold      2\n",
      "Silver    2\n",
      "Name: Medal, dtype: int64\n"
     ]
    },
    {
     "data": {
      "image/png": "[encoded data removed]",
      "text/plain": [
       "<Figure size 1080x360 with 1 Axes>"
      ]
     },
     "metadata": {
      "needs_background": "light"
     },
     "output_type": "display_data"
    },
    {
     "data": {
      "image/png": "[encoded data removed]",
      "text/plain": [
       "<Figure size 432x288 with 1 Axes>"
      ]
     },
     "metadata": {
      "needs_background": "light"
     },
     "output_type": "display_data"
    }
   ],
   "source": [
    "from pandas.core.groupby import groupby\n",
    "def consulta (x):\n",
    "  if x not in Datos[\"Athlete\"].to_numpy():\n",
    "    print(\"No existe el Atetla\")\n",
    "  else:\n",
    "    Consulta_1 = pd.DataFrame(Datos[Datos[\"Athlete\"] == x].groupby([\"Discipline\",\"Medal\",\"Year\"])[\"Medal\"].count()).set_axis([\"Cantidad\"],axis=1).reset_index().sort_values(\"Year\")\n",
    "    print(Consulta_1)\n",
    "    fig12,ax3 = plt.subplots(figsize=(15,5))\n",
    "    sns.barplot(data=Consulta_1,x=\"Year\",y=\"Cantidad\",ax=ax3,hue=\"Medal\",)\n",
    "    ax3.set_title(\"Resultados por años\"+\"\\n  Atleta: \"+x,size=15)\n",
    "    ax3.set_xlabel(\"Año\")\n",
    "    ax3.set_ylabel(\"Medallas ganadas\")\n",
    "    fig13,ax2 = plt.subplots()\n",
    "    Medallas = Consulta_1.groupby(\"Medal\")[\"Medal\"].count()\n",
    "    print(Medallas)\n",
    "    \n",
    "\n",
    "#consulta(\"PHELPS, Michael\")\n",
    "consulta(\"ANDRIANOV, Nikolay\")"
   ]
  }
 ],
 "metadata": {
  "colab": {
   "collapsed_sections": [],
   "provenance": []
  },
  "kernelspec": {
   "display_name": "Python 3 (ipykernel)",
   "language": "python",
   "name": "python3"
  },
  "language_info": {
   "codemirror_mode": {
    "name": "ipython",
    "version": 3
   },
   "file_extension": ".py",
   "mimetype": "text/x-python",
   "name": "python",
   "nbconvert_exporter": "python",
   "pygments_lexer": "ipython3",
   "version": "3.9.12"
  }
 },
 "nbformat": 4,
 "nbformat_minor": 4
}
