{
 "cells": [
  {
   "cell_type": "markdown",
   "id": "255860d8",
   "metadata": {},
   "source": [
    "# Sebastian Chaparro Jimenez\n",
    "### *Fundación Universitaria los Libertadores*\n",
    "\n",
    "\n",
    "\n",
    "\n",
    "\n",
    "## Limpieza de datos\n",
    "\n",
    "A continuación se presenta una de las muchas maneras de limpiar bases de datos, cuando estas presentan caracteres que no corresponden al tipo de variable.\n",
    "\n",
    "La base de datos Llamadas de urgencias y emergencias, contienen información registrada de las llamadas realizadas a la línea de emergencias, podemos encontrar información de la Fecha, el desplazamiento del móvil, código de la localidad, Localidad, Edad, unidad, género, red, tipo de urgencia, prioridad, mes, calificación final. \n",
    "\n"
   ]
  },
  {
   "cell_type": "code",
   "execution_count": 101,
   "id": "d877ec3e",
   "metadata": {},
   "outputs": [],
   "source": [
    "# Librerias requeridas \n",
    "import pandas as pd\n",
    "import numpy as np\n",
    "from datetime import datetime\n"
   ]
  },
  {
   "cell_type": "code",
   "execution_count": 102,
   "id": "1b72c58c",
   "metadata": {},
   "outputs": [],
   "source": [
    "# Carga de datos\n",
    "datos = pd.read_csv(\"C:/Users/sebas/OneDrive/Python/llamadas-de-urgencias-y-emergencias.csv\",encoding=\"latin\",\n",
    "                    sep = \";\" )\n"
   ]
  },
  {
   "cell_type": "code",
   "execution_count": 118,
   "id": "a7d1848e",
   "metadata": {},
   "outputs": [
    {
     "data": {
      "text/html": [
       "<div>\n",
       "<style scoped>\n",
       "    .dataframe tbody tr th:only-of-type {\n",
       "        vertical-align: middle;\n",
       "    }\n",
       "\n",
       "    .dataframe tbody tr th {\n",
       "        vertical-align: top;\n",
       "    }\n",
       "\n",
       "    .dataframe thead th {\n",
       "        text-align: right;\n",
       "    }\n",
       "</style>\n",
       "<table border=\"1\" class=\"dataframe\">\n",
       "  <thead>\n",
       "    <tr style=\"text-align: right;\">\n",
       "      <th></th>\n",
       "      <th>FECHA_INCIDENTE</th>\n",
       "      <th>FECHA_INICIO_DESPLAZAMIENTO_MOVIL</th>\n",
       "      <th>CODIGO LOCALIDAD</th>\n",
       "      <th>LOCALIDAD</th>\n",
       "      <th>EDAD</th>\n",
       "      <th>UNIDAD</th>\n",
       "      <th>GENERO</th>\n",
       "      <th>RED</th>\n",
       "      <th>TIPO_INCIDENTE</th>\n",
       "      <th>PRIORIDAD</th>\n",
       "      <th>MES</th>\n",
       "      <th>CLASIFICACION FINAL</th>\n",
       "    </tr>\n",
       "  </thead>\n",
       "  <tbody>\n",
       "    <tr>\n",
       "      <th>0</th>\n",
       "      <td>2019-01-01 00:00:18</td>\n",
       "      <td>2019-01-01 00:04:37</td>\n",
       "      <td>11</td>\n",
       "      <td>Suba</td>\n",
       "      <td>NaN</td>\n",
       "      <td>NaN</td>\n",
       "      <td>NaN</td>\n",
       "      <td>Norte</td>\n",
       "      <td>Lesiones personales</td>\n",
       "      <td>ALTA</td>\n",
       "      <td>ENERO</td>\n",
       "      <td>Cancelado</td>\n",
       "    </tr>\n",
       "    <tr>\n",
       "      <th>1</th>\n",
       "      <td>2019-01-01 00:00:58</td>\n",
       "      <td>2019-01-01 00:08:06</td>\n",
       "      <td>16</td>\n",
       "      <td>Puente Aranda</td>\n",
       "      <td>NaN</td>\n",
       "      <td>NaN</td>\n",
       "      <td>NaN</td>\n",
       "      <td>Sur</td>\n",
       "      <td>Accidente de tránsito con heridos/Muertos</td>\n",
       "      <td>ALTA</td>\n",
       "      <td>ENERO</td>\n",
       "      <td>Cancelado</td>\n",
       "    </tr>\n",
       "    <tr>\n",
       "      <th>2</th>\n",
       "      <td>2019-01-01 00:04:31</td>\n",
       "      <td>2019-01-01 00:07:41</td>\n",
       "      <td>3</td>\n",
       "      <td>Santa Fe</td>\n",
       "      <td>51.0</td>\n",
       "      <td>Años</td>\n",
       "      <td>FEMENINO</td>\n",
       "      <td>Norte</td>\n",
       "      <td>Dolor torácico</td>\n",
       "      <td>ALTA</td>\n",
       "      <td>ENERO</td>\n",
       "      <td>Traslado</td>\n",
       "    </tr>\n",
       "    <tr>\n",
       "      <th>3</th>\n",
       "      <td>2019-01-01 00:04:51</td>\n",
       "      <td>2019-01-01 00:07:46</td>\n",
       "      <td>10</td>\n",
       "      <td>Engativá</td>\n",
       "      <td>NaN</td>\n",
       "      <td>NaN</td>\n",
       "      <td>NaN</td>\n",
       "      <td>Norte</td>\n",
       "      <td>Inconsciente/Paro Cardiorrespiratorio</td>\n",
       "      <td>ALTA</td>\n",
       "      <td>ENERO</td>\n",
       "      <td>Falsa Alarma</td>\n",
       "    </tr>\n",
       "    <tr>\n",
       "      <th>4</th>\n",
       "      <td>2019-01-01 00:08:40</td>\n",
       "      <td>2019-01-01 00:10:40</td>\n",
       "      <td>8</td>\n",
       "      <td>Kennedy</td>\n",
       "      <td>NaN</td>\n",
       "      <td>NaN</td>\n",
       "      <td>NaN</td>\n",
       "      <td>Sur</td>\n",
       "      <td>Herido con pólvora</td>\n",
       "      <td>ALTA</td>\n",
       "      <td>ENERO</td>\n",
       "      <td>Cancelado</td>\n",
       "    </tr>\n",
       "    <tr>\n",
       "      <th>5</th>\n",
       "      <td>2019-01-01 00:08:40</td>\n",
       "      <td>2019-01-01 00:13:23</td>\n",
       "      <td>8</td>\n",
       "      <td>Kennedy</td>\n",
       "      <td>51.0</td>\n",
       "      <td>Años</td>\n",
       "      <td>FEMENINO</td>\n",
       "      <td>Sur</td>\n",
       "      <td>Herido con pólvora</td>\n",
       "      <td>ALTA</td>\n",
       "      <td>ENERO</td>\n",
       "      <td>Desistimiento</td>\n",
       "    </tr>\n",
       "    <tr>\n",
       "      <th>6</th>\n",
       "      <td>2019-01-01 00:09:48</td>\n",
       "      <td>2019-01-01 00:10:58</td>\n",
       "      <td>15</td>\n",
       "      <td>Antonio Nariño</td>\n",
       "      <td>NaN</td>\n",
       "      <td>NaN</td>\n",
       "      <td>NaN</td>\n",
       "      <td>Sur</td>\n",
       "      <td>Inconsciente/Paro Cardiorrespiratorio</td>\n",
       "      <td>ALTA</td>\n",
       "      <td>ENERO</td>\n",
       "      <td>Cancelado</td>\n",
       "    </tr>\n",
       "    <tr>\n",
       "      <th>7</th>\n",
       "      <td>2019-01-01 00:09:48</td>\n",
       "      <td>2019-01-01 00:10:26</td>\n",
       "      <td>15</td>\n",
       "      <td>Antonio Nariño</td>\n",
       "      <td>NaN</td>\n",
       "      <td>NaN</td>\n",
       "      <td>NaN</td>\n",
       "      <td>Norte</td>\n",
       "      <td>Inconsciente/Paro Cardiorrespiratorio</td>\n",
       "      <td>ALTA</td>\n",
       "      <td>ENERO</td>\n",
       "      <td>Cancelado</td>\n",
       "    </tr>\n",
       "    <tr>\n",
       "      <th>8</th>\n",
       "      <td>2019-01-01 00:10:25</td>\n",
       "      <td>2019-01-01 01:14:56</td>\n",
       "      <td>7</td>\n",
       "      <td>Bosa</td>\n",
       "      <td>NaN</td>\n",
       "      <td>NaN</td>\n",
       "      <td>NaN</td>\n",
       "      <td>Sur</td>\n",
       "      <td>Intento de suicidio</td>\n",
       "      <td>ALTA</td>\n",
       "      <td>ENERO</td>\n",
       "      <td>Cancelado</td>\n",
       "    </tr>\n",
       "    <tr>\n",
       "      <th>9</th>\n",
       "      <td>2019-01-01 00:10:25</td>\n",
       "      <td>2019-01-01 00:11:37</td>\n",
       "      <td>7</td>\n",
       "      <td>Bosa</td>\n",
       "      <td>NaN</td>\n",
       "      <td>NaN</td>\n",
       "      <td>NaN</td>\n",
       "      <td>Sur</td>\n",
       "      <td>Intento de suicidio</td>\n",
       "      <td>ALTA</td>\n",
       "      <td>ENERO</td>\n",
       "      <td>Cancelado</td>\n",
       "    </tr>\n",
       "  </tbody>\n",
       "</table>\n",
       "</div>"
      ],
      "text/plain": [
       "      FECHA_INCIDENTE FECHA_INICIO_DESPLAZAMIENTO_MOVIL  CODIGO LOCALIDAD  \\\n",
       "0 2019-01-01 00:00:18               2019-01-01 00:04:37                11   \n",
       "1 2019-01-01 00:00:58               2019-01-01 00:08:06                16   \n",
       "2 2019-01-01 00:04:31               2019-01-01 00:07:41                 3   \n",
       "3 2019-01-01 00:04:51               2019-01-01 00:07:46                10   \n",
       "4 2019-01-01 00:08:40               2019-01-01 00:10:40                 8   \n",
       "5 2019-01-01 00:08:40               2019-01-01 00:13:23                 8   \n",
       "6 2019-01-01 00:09:48               2019-01-01 00:10:58                15   \n",
       "7 2019-01-01 00:09:48               2019-01-01 00:10:26                15   \n",
       "8 2019-01-01 00:10:25               2019-01-01 01:14:56                 7   \n",
       "9 2019-01-01 00:10:25               2019-01-01 00:11:37                 7   \n",
       "\n",
       "         LOCALIDAD  EDAD UNIDAD    GENERO    RED  \\\n",
       "0             Suba   NaN    NaN       NaN  Norte   \n",
       "1    Puente Aranda   NaN    NaN       NaN    Sur   \n",
       "2         Santa Fe  51.0   Años  FEMENINO  Norte   \n",
       "3         Engativá   NaN    NaN       NaN  Norte   \n",
       "4          Kennedy   NaN    NaN       NaN    Sur   \n",
       "5          Kennedy  51.0   Años  FEMENINO    Sur   \n",
       "6   Antonio Nariño   NaN    NaN       NaN    Sur   \n",
       "7   Antonio Nariño   NaN    NaN       NaN  Norte   \n",
       "8             Bosa   NaN    NaN       NaN    Sur   \n",
       "9             Bosa   NaN    NaN       NaN    Sur   \n",
       "\n",
       "                              TIPO_INCIDENTE PRIORIDAD    MES  \\\n",
       "0                        Lesiones personales      ALTA  ENERO   \n",
       "1  Accidente de tránsito con heridos/Muertos      ALTA  ENERO   \n",
       "2                             Dolor torácico      ALTA  ENERO   \n",
       "3     Inconsciente/Paro Cardiorrespiratorio       ALTA  ENERO   \n",
       "4                         Herido con pólvora      ALTA  ENERO   \n",
       "5                         Herido con pólvora      ALTA  ENERO   \n",
       "6     Inconsciente/Paro Cardiorrespiratorio       ALTA  ENERO   \n",
       "7     Inconsciente/Paro Cardiorrespiratorio       ALTA  ENERO   \n",
       "8                        Intento de suicidio      ALTA  ENERO   \n",
       "9                        Intento de suicidio      ALTA  ENERO   \n",
       "\n",
       "  CLASIFICACION FINAL  \n",
       "0           Cancelado  \n",
       "1           Cancelado  \n",
       "2            Traslado  \n",
       "3        Falsa Alarma  \n",
       "4           Cancelado  \n",
       "5       Desistimiento  \n",
       "6           Cancelado  \n",
       "7           Cancelado  \n",
       "8           Cancelado  \n",
       "9           Cancelado  "
      ]
     },
     "execution_count": 118,
     "metadata": {},
     "output_type": "execute_result"
    }
   ],
   "source": [
    "datos.head(10)"
   ]
  },
  {
   "cell_type": "code",
   "execution_count": 103,
   "id": "cee2532a",
   "metadata": {},
   "outputs": [
    {
     "name": "stdout",
     "output_type": "stream",
     "text": [
      "<class 'pandas.core.frame.DataFrame'>\n",
      "RangeIndex: 127314 entries, 0 to 127313\n",
      "Data columns (total 12 columns):\n",
      " #   Column                             Non-Null Count   Dtype \n",
      "---  ------                             --------------   ----- \n",
      " 0   FECHA_INCIDENTE                    127314 non-null  object\n",
      " 1   FECHA_INICIO_DESPLAZAMIENTO_MOVIL  127314 non-null  object\n",
      " 2   CODIGO LOCALIDAD                   127314 non-null  int64 \n",
      " 3   LOCALIDAD                          127314 non-null  object\n",
      " 4   EDAD                               127314 non-null  object\n",
      " 5   UNIDAD                             127314 non-null  object\n",
      " 6   GENERO                             127314 non-null  object\n",
      " 7   RED                                127314 non-null  object\n",
      " 8   TIPO_INCIDENTE                     127314 non-null  object\n",
      " 9   PRIORIDAD                          127286 non-null  object\n",
      " 10  MES                                127314 non-null  object\n",
      " 11  CLASIFICACION FINAL                127314 non-null  object\n",
      "dtypes: int64(1), object(11)\n",
      "memory usage: 11.7+ MB\n"
     ]
    }
   ],
   "source": [
    "# Información de las variables. \n",
    "datos.info()"
   ]
  },
  {
   "cell_type": "markdown",
   "id": "41a27367",
   "metadata": {},
   "source": [
    "La mayoría de las variables no corresponden al tipo requerido para realizar análisis posteriores, las fechas no son de tipo fecha, la edad, por ejemplo, debería estar en formato int o float, entre otras variables las cuales iremos analizando a medida que desarrollamos este código."
   ]
  },
  {
   "cell_type": "markdown",
   "id": "c95ac763",
   "metadata": {},
   "source": [
    "### Fechas: \n",
    "\n",
    "Las fechas se encuentran en distintos formatos, entre ellos encontramos fechas con formato \"2019-01 01\" donde falta \"-\",\"30/06/2019\" y fechas no registradas como \"0000-00-00 00:00:00\" las cuales deberían ser Valores ausentes (null, Nan, Na) \n"
   ]
  },
  {
   "cell_type": "code",
   "execution_count": 110,
   "id": "1baa7a18",
   "metadata": {},
   "outputs": [
    {
     "data": {
      "text/plain": [
       "0         2019-01 01 00:00:18\n",
       "1         2019-01 01 00:00:58\n",
       "2         2019-01 01 00:04:31\n",
       "3         2019-01 01 00:04:51\n",
       "4         2019-01 01 00:08:40\n",
       "                 ...         \n",
       "127309       30/06/2019 23:41\n",
       "127310       30/06/2019 23:52\n",
       "127311       30/06/2019 23:53\n",
       "127312       30/06/2019 23:54\n",
       "127313       30/06/2019 23:56\n",
       "Name: FECHA_INCIDENTE, Length: 127314, dtype: object"
      ]
     },
     "execution_count": 110,
     "metadata": {},
     "output_type": "execute_result"
    }
   ],
   "source": [
    "datos[\"FECHA_INCIDENTE\"]"
   ]
  },
  {
   "cell_type": "code",
   "execution_count": 111,
   "id": "b1ebd57f",
   "metadata": {
    "scrolled": true
   },
   "outputs": [],
   "source": [
    "# Función que permite tratar los distintos formatos de fecha.\n",
    "\n",
    "def mod_fecha(fecha_str):\n",
    "    x = \"/\"\n",
    "    if x in fecha_str:\n",
    "        fecha_str = datetime.strptime(fecha_str, \"%d/%m/%Y %H:%M\")\n",
    "        return fecha_str\n",
    "    if \"0000-00-00 00:00:00\" in fecha_str:\n",
    "        fecha_str = np.nan\n",
    "        return fecha_str\n",
    "    else:\n",
    "        fecha_str = datetime.strptime(fecha_str, \"%Y-%m %d %H:%M:%S\")\n",
    "        return fecha_str\n",
    "        \n",
    "\n",
    "datos['FECHA_INCIDENTE'] = datos['FECHA_INCIDENTE'].apply(mod_fecha)\n",
    "datos['FECHA_INICIO_DESPLAZAMIENTO_MOVIL'] = datos['FECHA_INICIO_DESPLAZAMIENTO_MOVIL'].apply(mod_fecha)\n"
   ]
  },
  {
   "cell_type": "markdown",
   "id": "8d647e1f",
   "metadata": {},
   "source": [
    "Al aplicar la función las fechas quedan en formato Año-mes-día "
   ]
  },
  {
   "cell_type": "code",
   "execution_count": 112,
   "id": "76fc3cf6",
   "metadata": {},
   "outputs": [
    {
     "data": {
      "text/plain": [
       "0        2019-01-01 00:00:18\n",
       "1        2019-01-01 00:00:58\n",
       "2        2019-01-01 00:04:31\n",
       "3        2019-01-01 00:04:51\n",
       "4        2019-01-01 00:08:40\n",
       "                 ...        \n",
       "127309   2019-06-30 23:41:00\n",
       "127310   2019-06-30 23:52:00\n",
       "127311   2019-06-30 23:53:00\n",
       "127312   2019-06-30 23:54:00\n",
       "127313   2019-06-30 23:56:00\n",
       "Name: FECHA_INCIDENTE, Length: 127314, dtype: datetime64[ns]"
      ]
     },
     "execution_count": 112,
     "metadata": {},
     "output_type": "execute_result"
    }
   ],
   "source": [
    "datos[\"FECHA_INCIDENTE\"]"
   ]
  },
  {
   "cell_type": "markdown",
   "id": "fdca2bdc",
   "metadata": {},
   "source": [
    "### Valores ausentes \"SIN_DATO\"\n",
    "\n",
    "Algunos valores ausentes presentes en la base de datos están referencias con la palabra \"SIN_DATO\", lo cual impide poder pasar la edad a int o float, por lo tanto, estos valores son cambiados por Nan y posteriormente cambiamos el tipo de variable"
   ]
  },
  {
   "cell_type": "code",
   "execution_count": 113,
   "id": "7631be86",
   "metadata": {},
   "outputs": [],
   "source": [
    "datos = datos.replace(\"SIN_DATO\",np.nan)\n"
   ]
  },
  {
   "cell_type": "code",
   "execution_count": 114,
   "id": "9f71ae98",
   "metadata": {},
   "outputs": [],
   "source": [
    "datos[\"EDAD\"] = datos[\"EDAD\"].astype(\"float\") "
   ]
  },
  {
   "cell_type": "markdown",
   "id": "3dd97c6b",
   "metadata": {},
   "source": [
    "### Localidad\n",
    "\n",
    "\n",
    "La variable localidad tiene localidades repetidas, puesto que es diferente \" Useme\" que \"Usme\", por lo tanto, quitamos los espacios iniciales y finales"
   ]
  },
  {
   "cell_type": "code",
   "execution_count": 76,
   "id": "7a983f99",
   "metadata": {},
   "outputs": [
    {
     "data": {
      "text/plain": [
       "array(['Suba', 'Puente Aranda', ' Santa Fe', 'Engativá', 'Kennedy',\n",
       "       ' Antonio Nariño', ' Bosa', 'San Cristóbal', ' Ciudad Bolívar',\n",
       "       ' Rafael Uribe Uribe', 'Tunjuelito', 'Fontibón', ' Usaquén',\n",
       "       ' Chapinero', ' Usme', ' Barrios Unidos', ' Los Mártires',\n",
       "       ' Teusaquillo', ' La Candelaria', ' Sumapaz', ' Kennedy',\n",
       "       ' San Cristóbal', ' Suba', ' Puente Aranda', 'Usme', 'Usaquén',\n",
       "       ' Engativá', 'Chapinero', ' Tunjuelito', ' Fontibón', 'Santa Fe',\n",
       "       'Los Mártires', 'Rafael Uribe Uribe', 'Bosa', 'Ciudad Bolívar',\n",
       "       'Barrios Unidos', 'Teusaquillo', 'Antonio Nariño', 'La Candelaria'],\n",
       "      dtype=object)"
      ]
     },
     "execution_count": 76,
     "metadata": {},
     "output_type": "execute_result"
    }
   ],
   "source": [
    "datos[\"LOCALIDAD\"].unique()"
   ]
  },
  {
   "cell_type": "code",
   "execution_count": 81,
   "id": "197d5fee",
   "metadata": {},
   "outputs": [],
   "source": [
    "datos[\"LOCALIDAD\"] = datos[\"LOCALIDAD\"].apply(lambda x: x.strip())"
   ]
  },
  {
   "cell_type": "code",
   "execution_count": 82,
   "id": "7e46d45f",
   "metadata": {},
   "outputs": [
    {
     "data": {
      "text/plain": [
       "array(['Suba', 'Puente Aranda', 'Santa Fe', 'Engativá', 'Kennedy',\n",
       "       'Antonio Nariño', 'Bosa', 'San Cristóbal', 'Ciudad Bolívar',\n",
       "       'Rafael Uribe Uribe', 'Tunjuelito', 'Fontibón', 'Usaquén',\n",
       "       'Chapinero', 'Usme', 'Barrios Unidos', 'Los Mártires',\n",
       "       'Teusaquillo', 'La Candelaria', 'Sumapaz'], dtype=object)"
      ]
     },
     "execution_count": 82,
     "metadata": {},
     "output_type": "execute_result"
    }
   ],
   "source": [
    "datos[\"LOCALIDAD\"].unique()"
   ]
  },
  {
   "cell_type": "code",
   "execution_count": 83,
   "id": "5a3e248d",
   "metadata": {},
   "outputs": [
    {
     "data": {
      "text/plain": [
       "array([nan, 'FEMENINO', 'MASCULINO'], dtype=object)"
      ]
     },
     "execution_count": 83,
     "metadata": {},
     "output_type": "execute_result"
    }
   ],
   "source": [
    "datos[\"GENERO\"].unique()\n"
   ]
  },
  {
   "cell_type": "markdown",
   "id": "856d996d",
   "metadata": {},
   "source": [
    "### RED \n",
    "\n",
    "La variable red tiene el inconveniente de presentar strings con minúsculas, mayúsculas. Esto impide tener una categoría por red. "
   ]
  },
  {
   "cell_type": "code",
   "execution_count": 116,
   "id": "5d8a6656",
   "metadata": {},
   "outputs": [
    {
     "data": {
      "text/plain": [
       "array(['Norte', 'Sur', 'SUR', 'NORTE', 'sur'], dtype=object)"
      ]
     },
     "execution_count": 116,
     "metadata": {},
     "output_type": "execute_result"
    }
   ],
   "source": [
    "datos[\"RED\"].unique()\n"
   ]
  },
  {
   "cell_type": "code",
   "execution_count": 117,
   "id": "1a9d3129",
   "metadata": {},
   "outputs": [
    {
     "data": {
      "text/plain": [
       "array(['Norte', 'Sur'], dtype=object)"
      ]
     },
     "execution_count": 117,
     "metadata": {},
     "output_type": "execute_result"
    }
   ],
   "source": [
    "datos[\"RED\"] = datos[\"RED\"].apply(lambda x: x.capitalize() ) \n",
    "datos[\"RED\"].unique()"
   ]
  }
 ],
 "metadata": {
  "kernelspec": {
   "display_name": "Python 3 (ipykernel)",
   "language": "python",
   "name": "python3"
  },
  "language_info": {
   "codemirror_mode": {
    "name": "ipython",
    "version": 3
   },
   "file_extension": ".py",
   "mimetype": "text/x-python",
   "name": "python",
   "nbconvert_exporter": "python",
   "pygments_lexer": "ipython3",
   "version": "3.9.12"
  }
 },
 "nbformat": 4,
 "nbformat_minor": 5
}
